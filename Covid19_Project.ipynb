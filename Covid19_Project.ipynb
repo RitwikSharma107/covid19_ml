{
  "nbformat": 4,
  "nbformat_minor": 0,
  "metadata": {
    "colab": {
      "name": "Covid19_Project.ipynb",
      "provenance": [],
      "collapsed_sections": [
        "2m4XfKp_Be8O",
        "fX34uBWc6ZkK",
        "5hWHqwZ97hXu",
        "kdp8upho7CRs",
        "Ue3dZNjO6smu",
        "txfzgTVZoQ_x",
        "c704i73v7wXq",
        "FLdAwXBN763m",
        "TdZJjNCy8P27",
        "QiIKzZre8ZYk",
        "oSQW41elJi6w",
        "5MOz_gnf84cU",
        "GUcIi1yX8-oQ",
        "9RL9Kyom9SeT",
        "VA2LM3nREsCI"
      ],
      "mount_file_id": "1DYKTqAnc-Wv_WcBaHLuZHAfix-Non5F2",
      "authorship_tag": "ABX9TyMVaMNIqQSnyLdAXcI6iH6Y",
      "include_colab_link": true
    },
    "kernelspec": {
      "name": "python3",
      "display_name": "Python 3"
    }
  },
  "cells": [
    {
      "cell_type": "markdown",
      "metadata": {
        "id": "view-in-github",
        "colab_type": "text"
      },
      "source": [
        "<a href=\"https://colab.research.google.com/github/RitwikSharma107/covid19_ml/blob/master/Covid19_Project.ipynb\" target=\"_parent\"><img src=\"https://colab.research.google.com/assets/colab-badge.svg\" alt=\"Open In Colab\"/></a>"
      ]
    },
    {
      "cell_type": "markdown",
      "metadata": {
        "id": "5JI5XBNj5v-i",
        "colab_type": "text"
      },
      "source": [
        "# 😷 Predicting the number of resulting fatalities for future dates using machine learning.\n",
        "\n",
        "<img \n",
        "src=\"https://assets.entrepreneur.com/content/3x2/2000/20200324173419-coronavirus1.jpeg\"\n",
        "Width = 300px>\n",
        "\n",
        "I understand this is a serious situation, and in no way want to trivialize the human impact this crisis is causing by predicting fatalities.<br> My goal is to provide better methods for estimates that can assist medical and governmental institutions to prepare and adjust as pandemics unfold."
      ]
    },
    {
      "cell_type": "markdown",
      "metadata": {
        "id": "yssSxxBo5rfA",
        "colab_type": "text"
      },
      "source": [
        "## Problem Defination\n",
        "Predicting the number of resulting fatalities for future dates."
      ]
    },
    {
      "cell_type": "markdown",
      "metadata": {
        "id": "JT3bzFBN5rRX",
        "colab_type": "text"
      },
      "source": [
        "## Data\n",
        "The data is downloaded from kaggle bluebook for COVID19 Global Forecasting:\n",
        "<br>\n",
        "https://www.kaggle.com/c/covid19-global-forecasting-week-4/data\n",
        "\n",
        "I have downloaded two datasets:\n",
        "* <b>train.csv</b> - the training data \n",
        "* <b>test.csv</b> - the dates to predict\n"
      ]
    },
    {
      "cell_type": "markdown",
      "metadata": {
        "id": "0J3P21IH5rDm",
        "colab_type": "text"
      },
      "source": [
        "## Evaluation\n",
        "The goal of the project is to predict the number of resulting fatalities with accuracy of 95% and above for future dates so that necessary precautions can be taken."
      ]
    },
    {
      "cell_type": "markdown",
      "metadata": {
        "id": "2m4XfKp_Be8O",
        "colab_type": "text"
      },
      "source": [
        "## Features"
      ]
    },
    {
      "cell_type": "markdown",
      "metadata": {
        "id": "fX34uBWc6ZkK",
        "colab_type": "text"
      },
      "source": [
        "### Prepare tools and load data"
      ]
    },
    {
      "cell_type": "code",
      "metadata": {
        "id": "TcC8g2zKxQJs",
        "colab_type": "code",
        "outputId": "3d3aed4d-2e82-4e8a-fb34-bfd09af333d7",
        "colab": {
          "base_uri": "https://localhost:8080/",
          "height": 74
        }
      },
      "source": [
        "#Import Libraries\n",
        "import numpy as np\n",
        "import pandas as pd\n",
        "import matplotlib.pyplot as plt\n",
        "import seaborn as sns\n",
        "\n",
        "%matplotlib inline\n",
        "plt.style.use('dark_background')"
      ],
      "execution_count": 1,
      "outputs": [
        {
          "output_type": "stream",
          "text": [
            "/usr/local/lib/python3.6/dist-packages/statsmodels/tools/_testing.py:19: FutureWarning: pandas.util.testing is deprecated. Use the functions in the public API at pandas.testing instead.\n",
            "  import pandas.util.testing as tm\n"
          ],
          "name": "stderr"
        }
      ]
    },
    {
      "cell_type": "code",
      "metadata": {
        "id": "6Gaed5qBz-dy",
        "colab_type": "code",
        "outputId": "9f16b55c-3e34-474b-be8c-954c27064513",
        "colab": {
          "base_uri": "https://localhost:8080/",
          "height": 35
        }
      },
      "source": [
        "#Load data\n",
        "df = pd.read_csv(\"/content/drive/My Drive/Covid19 Data/train.csv\")\n",
        "df.shape"
      ],
      "execution_count": 2,
      "outputs": [
        {
          "output_type": "execute_result",
          "data": {
            "text/plain": [
              "(28170, 6)"
            ]
          },
          "metadata": {
            "tags": []
          },
          "execution_count": 2
        }
      ]
    },
    {
      "cell_type": "markdown",
      "metadata": {
        "id": "5hWHqwZ97hXu",
        "colab_type": "text"
      },
      "source": [
        "### Data Analysis"
      ]
    },
    {
      "cell_type": "code",
      "metadata": {
        "id": "Nu3kJkNJ0scg",
        "colab_type": "code",
        "outputId": "f86eaf2a-66a1-4716-cef2-8979e9c98a4e",
        "colab": {
          "base_uri": "https://localhost:8080/",
          "height": 254
        }
      },
      "source": [
        "df.info()"
      ],
      "execution_count": 3,
      "outputs": [
        {
          "output_type": "stream",
          "text": [
            "<class 'pandas.core.frame.DataFrame'>\n",
            "RangeIndex: 28170 entries, 0 to 28169\n",
            "Data columns (total 6 columns):\n",
            " #   Column          Non-Null Count  Dtype  \n",
            "---  ------          --------------  -----  \n",
            " 0   Id              28170 non-null  int64  \n",
            " 1   Province_State  11970 non-null  object \n",
            " 2   Country_Region  28170 non-null  object \n",
            " 3   Date            28170 non-null  object \n",
            " 4   ConfirmedCases  28170 non-null  float64\n",
            " 5   Fatalities      28170 non-null  float64\n",
            "dtypes: float64(2), int64(1), object(3)\n",
            "memory usage: 1.3+ MB\n"
          ],
          "name": "stdout"
        }
      ]
    },
    {
      "cell_type": "code",
      "metadata": {
        "id": "KCWr7Jxm0-gG",
        "colab_type": "code",
        "outputId": "5dba7c87-bd3b-4201-8a2b-a59b71e114ab",
        "colab": {
          "base_uri": "https://localhost:8080/",
          "height": 145
        }
      },
      "source": [
        "df.isna().sum()"
      ],
      "execution_count": 4,
      "outputs": [
        {
          "output_type": "execute_result",
          "data": {
            "text/plain": [
              "Id                    0\n",
              "Province_State    16200\n",
              "Country_Region        0\n",
              "Date                  0\n",
              "ConfirmedCases        0\n",
              "Fatalities            0\n",
              "dtype: int64"
            ]
          },
          "metadata": {
            "tags": []
          },
          "execution_count": 4
        }
      ]
    },
    {
      "cell_type": "code",
      "metadata": {
        "id": "SpfoNyDD1U0v",
        "colab_type": "code",
        "outputId": "2dd89f1d-f7d1-4930-fb60-830d26567aaa",
        "colab": {
          "base_uri": "https://localhost:8080/",
          "height": 217
        }
      },
      "source": [
        "df.Date[:10]"
      ],
      "execution_count": 5,
      "outputs": [
        {
          "output_type": "execute_result",
          "data": {
            "text/plain": [
              "0    2020-01-22\n",
              "1    2020-01-23\n",
              "2    2020-01-24\n",
              "3    2020-01-25\n",
              "4    2020-01-26\n",
              "5    2020-01-27\n",
              "6    2020-01-28\n",
              "7    2020-01-29\n",
              "8    2020-01-30\n",
              "9    2020-01-31\n",
              "Name: Date, dtype: object"
            ]
          },
          "metadata": {
            "tags": []
          },
          "execution_count": 5
        }
      ]
    },
    {
      "cell_type": "code",
      "metadata": {
        "id": "FS-7wphc3zjH",
        "colab_type": "code",
        "outputId": "0099fe54-3819-4e68-c544-d5e19226a2c4",
        "colab": {
          "base_uri": "https://localhost:8080/",
          "height": 35
        }
      },
      "source": [
        "#Load Data with date parsed to 'datetime64' dtype\n",
        "df = pd.read_csv(\"/content/drive/My Drive/Covid19 Data/train.csv\",low_memory=False,parse_dates=[\"Date\"])\n",
        "df.Date.dtype"
      ],
      "execution_count": 6,
      "outputs": [
        {
          "output_type": "execute_result",
          "data": {
            "text/plain": [
              "dtype('<M8[ns]')"
            ]
          },
          "metadata": {
            "tags": []
          },
          "execution_count": 6
        }
      ]
    },
    {
      "cell_type": "code",
      "metadata": {
        "id": "m0RwlYii4FO6",
        "colab_type": "code",
        "outputId": "fc56277b-d0af-4eca-bef9-5fbcbc69b171",
        "colab": {
          "base_uri": "https://localhost:8080/",
          "height": 235
        }
      },
      "source": [
        "df.Date"
      ],
      "execution_count": 7,
      "outputs": [
        {
          "output_type": "execute_result",
          "data": {
            "text/plain": [
              "0       2020-01-22\n",
              "1       2020-01-23\n",
              "2       2020-01-24\n",
              "3       2020-01-25\n",
              "4       2020-01-26\n",
              "           ...    \n",
              "28165   2020-04-16\n",
              "28166   2020-04-17\n",
              "28167   2020-04-18\n",
              "28168   2020-04-19\n",
              "28169   2020-04-20\n",
              "Name: Date, Length: 28170, dtype: datetime64[ns]"
            ]
          },
          "metadata": {
            "tags": []
          },
          "execution_count": 7
        }
      ]
    },
    {
      "cell_type": "code",
      "metadata": {
        "id": "VglISk7Uew4b",
        "colab_type": "code",
        "outputId": "2f3f04b1-9673-4bd2-a154-95d5a550ccfa",
        "colab": {
          "base_uri": "https://localhost:8080/",
          "height": 35
        }
      },
      "source": [
        "#Seperate Date Information\n",
        "df[\"Year\"] = df.Date.dt.year\n",
        "df[\"Month\"] = df.Date.dt.month\n",
        "df[\"Day\"] = df.Date.dt.day\n",
        "df[\"DayOfWeek\"] = df.Date.dt.dayofweek\n",
        "df[\"DayOfYear\"] = df.Date.dt.dayofyear\n",
        "df.shape"
      ],
      "execution_count": 8,
      "outputs": [
        {
          "output_type": "execute_result",
          "data": {
            "text/plain": [
              "(28170, 11)"
            ]
          },
          "metadata": {
            "tags": []
          },
          "execution_count": 8
        }
      ]
    },
    {
      "cell_type": "code",
      "metadata": {
        "id": "M1FmOarFff06",
        "colab_type": "code",
        "outputId": "7db9d5cd-7bfe-40d0-8590-09c0247d37ad",
        "colab": {
          "base_uri": "https://localhost:8080/",
          "height": 35
        }
      },
      "source": [
        "#Remove Date from data\n",
        "df.drop(\"Date\",axis=1,inplace=True)\n",
        "df.shape"
      ],
      "execution_count": 9,
      "outputs": [
        {
          "output_type": "execute_result",
          "data": {
            "text/plain": [
              "(28170, 10)"
            ]
          },
          "metadata": {
            "tags": []
          },
          "execution_count": 9
        }
      ]
    },
    {
      "cell_type": "code",
      "metadata": {
        "id": "fErPnBOGiSJj",
        "colab_type": "code",
        "outputId": "6d150a95-164a-4684-a0f4-e25a2de95c26",
        "colab": {
          "base_uri": "https://localhost:8080/",
          "height": 348
        }
      },
      "source": [
        "df.tail(10)"
      ],
      "execution_count": 10,
      "outputs": [
        {
          "output_type": "execute_result",
          "data": {
            "text/html": [
              "<div>\n",
              "<style scoped>\n",
              "    .dataframe tbody tr th:only-of-type {\n",
              "        vertical-align: middle;\n",
              "    }\n",
              "\n",
              "    .dataframe tbody tr th {\n",
              "        vertical-align: top;\n",
              "    }\n",
              "\n",
              "    .dataframe thead th {\n",
              "        text-align: right;\n",
              "    }\n",
              "</style>\n",
              "<table border=\"1\" class=\"dataframe\">\n",
              "  <thead>\n",
              "    <tr style=\"text-align: right;\">\n",
              "      <th></th>\n",
              "      <th>Id</th>\n",
              "      <th>Province_State</th>\n",
              "      <th>Country_Region</th>\n",
              "      <th>ConfirmedCases</th>\n",
              "      <th>Fatalities</th>\n",
              "      <th>Year</th>\n",
              "      <th>Month</th>\n",
              "      <th>Day</th>\n",
              "      <th>DayOfWeek</th>\n",
              "      <th>DayOfYear</th>\n",
              "    </tr>\n",
              "  </thead>\n",
              "  <tbody>\n",
              "    <tr>\n",
              "      <th>28160</th>\n",
              "      <td>35649</td>\n",
              "      <td>NaN</td>\n",
              "      <td>Zimbabwe</td>\n",
              "      <td>14.0</td>\n",
              "      <td>3.0</td>\n",
              "      <td>2020</td>\n",
              "      <td>4</td>\n",
              "      <td>11</td>\n",
              "      <td>5</td>\n",
              "      <td>102</td>\n",
              "    </tr>\n",
              "    <tr>\n",
              "      <th>28161</th>\n",
              "      <td>35650</td>\n",
              "      <td>NaN</td>\n",
              "      <td>Zimbabwe</td>\n",
              "      <td>14.0</td>\n",
              "      <td>3.0</td>\n",
              "      <td>2020</td>\n",
              "      <td>4</td>\n",
              "      <td>12</td>\n",
              "      <td>6</td>\n",
              "      <td>103</td>\n",
              "    </tr>\n",
              "    <tr>\n",
              "      <th>28162</th>\n",
              "      <td>35651</td>\n",
              "      <td>NaN</td>\n",
              "      <td>Zimbabwe</td>\n",
              "      <td>17.0</td>\n",
              "      <td>3.0</td>\n",
              "      <td>2020</td>\n",
              "      <td>4</td>\n",
              "      <td>13</td>\n",
              "      <td>0</td>\n",
              "      <td>104</td>\n",
              "    </tr>\n",
              "    <tr>\n",
              "      <th>28163</th>\n",
              "      <td>35652</td>\n",
              "      <td>NaN</td>\n",
              "      <td>Zimbabwe</td>\n",
              "      <td>17.0</td>\n",
              "      <td>3.0</td>\n",
              "      <td>2020</td>\n",
              "      <td>4</td>\n",
              "      <td>14</td>\n",
              "      <td>1</td>\n",
              "      <td>105</td>\n",
              "    </tr>\n",
              "    <tr>\n",
              "      <th>28164</th>\n",
              "      <td>35653</td>\n",
              "      <td>NaN</td>\n",
              "      <td>Zimbabwe</td>\n",
              "      <td>23.0</td>\n",
              "      <td>3.0</td>\n",
              "      <td>2020</td>\n",
              "      <td>4</td>\n",
              "      <td>15</td>\n",
              "      <td>2</td>\n",
              "      <td>106</td>\n",
              "    </tr>\n",
              "    <tr>\n",
              "      <th>28165</th>\n",
              "      <td>35654</td>\n",
              "      <td>NaN</td>\n",
              "      <td>Zimbabwe</td>\n",
              "      <td>23.0</td>\n",
              "      <td>3.0</td>\n",
              "      <td>2020</td>\n",
              "      <td>4</td>\n",
              "      <td>16</td>\n",
              "      <td>3</td>\n",
              "      <td>107</td>\n",
              "    </tr>\n",
              "    <tr>\n",
              "      <th>28166</th>\n",
              "      <td>35655</td>\n",
              "      <td>NaN</td>\n",
              "      <td>Zimbabwe</td>\n",
              "      <td>24.0</td>\n",
              "      <td>3.0</td>\n",
              "      <td>2020</td>\n",
              "      <td>4</td>\n",
              "      <td>17</td>\n",
              "      <td>4</td>\n",
              "      <td>108</td>\n",
              "    </tr>\n",
              "    <tr>\n",
              "      <th>28167</th>\n",
              "      <td>35656</td>\n",
              "      <td>NaN</td>\n",
              "      <td>Zimbabwe</td>\n",
              "      <td>25.0</td>\n",
              "      <td>3.0</td>\n",
              "      <td>2020</td>\n",
              "      <td>4</td>\n",
              "      <td>18</td>\n",
              "      <td>5</td>\n",
              "      <td>109</td>\n",
              "    </tr>\n",
              "    <tr>\n",
              "      <th>28168</th>\n",
              "      <td>35657</td>\n",
              "      <td>NaN</td>\n",
              "      <td>Zimbabwe</td>\n",
              "      <td>25.0</td>\n",
              "      <td>3.0</td>\n",
              "      <td>2020</td>\n",
              "      <td>4</td>\n",
              "      <td>19</td>\n",
              "      <td>6</td>\n",
              "      <td>110</td>\n",
              "    </tr>\n",
              "    <tr>\n",
              "      <th>28169</th>\n",
              "      <td>35658</td>\n",
              "      <td>NaN</td>\n",
              "      <td>Zimbabwe</td>\n",
              "      <td>25.0</td>\n",
              "      <td>3.0</td>\n",
              "      <td>2020</td>\n",
              "      <td>4</td>\n",
              "      <td>20</td>\n",
              "      <td>0</td>\n",
              "      <td>111</td>\n",
              "    </tr>\n",
              "  </tbody>\n",
              "</table>\n",
              "</div>"
            ],
            "text/plain": [
              "          Id Province_State Country_Region  ...  Day  DayOfWeek  DayOfYear\n",
              "28160  35649            NaN       Zimbabwe  ...   11          5        102\n",
              "28161  35650            NaN       Zimbabwe  ...   12          6        103\n",
              "28162  35651            NaN       Zimbabwe  ...   13          0        104\n",
              "28163  35652            NaN       Zimbabwe  ...   14          1        105\n",
              "28164  35653            NaN       Zimbabwe  ...   15          2        106\n",
              "28165  35654            NaN       Zimbabwe  ...   16          3        107\n",
              "28166  35655            NaN       Zimbabwe  ...   17          4        108\n",
              "28167  35656            NaN       Zimbabwe  ...   18          5        109\n",
              "28168  35657            NaN       Zimbabwe  ...   19          6        110\n",
              "28169  35658            NaN       Zimbabwe  ...   20          0        111\n",
              "\n",
              "[10 rows x 10 columns]"
            ]
          },
          "metadata": {
            "tags": []
          },
          "execution_count": 10
        }
      ]
    },
    {
      "cell_type": "code",
      "metadata": {
        "id": "Ll1ri2weljrM",
        "colab_type": "code",
        "outputId": "73025c0b-7270-4514-f0d4-56db80be2b22",
        "colab": {
          "base_uri": "https://localhost:8080/",
          "height": 235
        }
      },
      "source": [
        "# Maximum country regions\n",
        "df.Country_Region.value_counts()"
      ],
      "execution_count": 11,
      "outputs": [
        {
          "output_type": "execute_result",
          "data": {
            "text/plain": [
              "US                4860\n",
              "China             2970\n",
              "Canada            1080\n",
              "France             990\n",
              "United Kingdom     990\n",
              "                  ... \n",
              "South Africa        90\n",
              "Bulgaria            90\n",
              "Sudan               90\n",
              "Nicaragua           90\n",
              "Chad                90\n",
              "Name: Country_Region, Length: 184, dtype: int64"
            ]
          },
          "metadata": {
            "tags": []
          },
          "execution_count": 11
        }
      ]
    },
    {
      "cell_type": "code",
      "metadata": {
        "id": "0_5Ap1z7tk-D",
        "colab_type": "code",
        "colab": {
          "base_uri": "https://localhost:8080/",
          "height": 378
        },
        "outputId": "505df5c5-2b97-4ba3-90c5-0813765187ab"
      },
      "source": [
        "# Top 10 countries affected by Covid19\n",
        "df_Country = df.groupby(['Country_Region']).mean()\n",
        "df_Country = df_Country.drop(['Id','Year','Month','Day','DayOfWeek','DayOfYear'],axis=1)\n",
        "Top10 = df_Country.sort_values('Fatalities', ascending=False)\n",
        "Top10[:10]"
      ],
      "execution_count": 93,
      "outputs": [
        {
          "output_type": "execute_result",
          "data": {
            "text/html": [
              "<div>\n",
              "<style scoped>\n",
              "    .dataframe tbody tr th:only-of-type {\n",
              "        vertical-align: middle;\n",
              "    }\n",
              "\n",
              "    .dataframe tbody tr th {\n",
              "        vertical-align: top;\n",
              "    }\n",
              "\n",
              "    .dataframe thead th {\n",
              "        text-align: right;\n",
              "    }\n",
              "</style>\n",
              "<table border=\"1\" class=\"dataframe\">\n",
              "  <thead>\n",
              "    <tr style=\"text-align: right;\">\n",
              "      <th></th>\n",
              "      <th>ConfirmedCases</th>\n",
              "      <th>Fatalities</th>\n",
              "    </tr>\n",
              "    <tr>\n",
              "      <th>Country_Region</th>\n",
              "      <th></th>\n",
              "      <th></th>\n",
              "    </tr>\n",
              "  </thead>\n",
              "  <tbody>\n",
              "    <tr>\n",
              "      <th>Italy</th>\n",
              "      <td>46470.700000</td>\n",
              "      <td>5515.955556</td>\n",
              "    </tr>\n",
              "    <tr>\n",
              "      <th>Spain</th>\n",
              "      <td>43230.711111</td>\n",
              "      <td>4142.288889</td>\n",
              "    </tr>\n",
              "    <tr>\n",
              "      <th>Iran</th>\n",
              "      <td>20946.900000</td>\n",
              "      <td>1321.366667</td>\n",
              "    </tr>\n",
              "    <tr>\n",
              "      <th>Belgium</th>\n",
              "      <td>7009.500000</td>\n",
              "      <td>741.511111</td>\n",
              "    </tr>\n",
              "    <tr>\n",
              "      <th>Germany</th>\n",
              "      <td>32967.944444</td>\n",
              "      <td>667.955556</td>\n",
              "    </tr>\n",
              "    <tr>\n",
              "      <th>France</th>\n",
              "      <td>2540.535354</td>\n",
              "      <td>283.996970</td>\n",
              "    </tr>\n",
              "    <tr>\n",
              "      <th>Brazil</th>\n",
              "      <td>5141.622222</td>\n",
              "      <td>281.300000</td>\n",
              "    </tr>\n",
              "    <tr>\n",
              "      <th>Turkey</th>\n",
              "      <td>11926.733333</td>\n",
              "      <td>257.600000</td>\n",
              "    </tr>\n",
              "    <tr>\n",
              "      <th>Switzerland</th>\n",
              "      <td>7045.722222</td>\n",
              "      <td>249.822222</td>\n",
              "    </tr>\n",
              "    <tr>\n",
              "      <th>Sweden</th>\n",
              "      <td>2663.088889</td>\n",
              "      <td>203.855556</td>\n",
              "    </tr>\n",
              "  </tbody>\n",
              "</table>\n",
              "</div>"
            ],
            "text/plain": [
              "                ConfirmedCases   Fatalities\n",
              "Country_Region                             \n",
              "Italy             46470.700000  5515.955556\n",
              "Spain             43230.711111  4142.288889\n",
              "Iran              20946.900000  1321.366667\n",
              "Belgium            7009.500000   741.511111\n",
              "Germany           32967.944444   667.955556\n",
              "France             2540.535354   283.996970\n",
              "Brazil             5141.622222   281.300000\n",
              "Turkey            11926.733333   257.600000\n",
              "Switzerland        7045.722222   249.822222\n",
              "Sweden             2663.088889   203.855556"
            ]
          },
          "metadata": {
            "tags": []
          },
          "execution_count": 93
        }
      ]
    },
    {
      "cell_type": "code",
      "metadata": {
        "id": "9Rr325zY0_Xc",
        "colab_type": "code",
        "colab": {
          "base_uri": "https://localhost:8080/",
          "height": 328
        },
        "outputId": "e83f105f-0d3f-4e00-a594-bd6e2046259a"
      },
      "source": [
        "# Top10 countries with most fatalities\n",
        "Top10 = Top10.reset_index()\n",
        "Top10[:10].plot(x=\"Country_Region\", y=\"ConfirmedCases\", kind=\"bar\", color='r', alpha=0.75);"
      ],
      "execution_count": 94,
      "outputs": [
        {
          "output_type": "display_data",
          "data": {
            "image/png": "[encoded data removed]",
            "text/plain": [
              "<Figure size 432x288 with 1 Axes>"
            ]
          },
          "metadata": {
            "tags": [],
            "needs_background": "dark"
          }
        }
      ]
    },
    {
      "cell_type": "code",
      "metadata": {
        "id": "kg-rLo57q4BT",
        "colab_type": "code",
        "colab": {
          "base_uri": "https://localhost:8080/",
          "height": 90
        },
        "outputId": "94c3701c-0dd6-4901-8172-387d8204536f"
      },
      "source": [
        "# Maximum no. of fatalities\n",
        "df1 = df[df['Fatalities']==max(df.Fatalities)]\n",
        "Country = df1['Country_Region'][df1.index[0]]\n",
        "Con_Cases = df1['ConfirmedCases'][df1.index[0]]\n",
        "Fatal = df1['Fatalities'][df1.index[0]]\n",
        "print('Country with maximum number of the fatalities:')\n",
        "print('Country: '+Country)\n",
        "print('Confirmed cases: '+str(Con_Cases))\n",
        "print('Fatalities: '+str(Fatal))"
      ],
      "execution_count": 108,
      "outputs": [
        {
          "output_type": "stream",
          "text": [
            "Country with maximum number of the fatalities:\n",
            "Country: Italy\n",
            "Confirmed cases: 181228.0\n",
            "Fatalities: 24114.0\n"
          ],
          "name": "stdout"
        }
      ]
    },
    {
      "cell_type": "code",
      "metadata": {
        "id": "z7v5F26DzSxT",
        "colab_type": "code",
        "colab": {
          "base_uri": "https://localhost:8080/",
          "height": 78
        },
        "outputId": "89550e85-f7db-4eee-8da6-b1fd80c93113"
      },
      "source": [
        "# Average number of cases and fatalities in India\n",
        "df_ = df_Country.reset_index()\n",
        "df_[df_['Country_Region']=='India']"
      ],
      "execution_count": 70,
      "outputs": [
        {
          "output_type": "execute_result",
          "data": {
            "text/html": [
              "<div>\n",
              "<style scoped>\n",
              "    .dataframe tbody tr th:only-of-type {\n",
              "        vertical-align: middle;\n",
              "    }\n",
              "\n",
              "    .dataframe tbody tr th {\n",
              "        vertical-align: top;\n",
              "    }\n",
              "\n",
              "    .dataframe thead th {\n",
              "        text-align: right;\n",
              "    }\n",
              "</style>\n",
              "<table border=\"1\" class=\"dataframe\">\n",
              "  <thead>\n",
              "    <tr style=\"text-align: right;\">\n",
              "      <th></th>\n",
              "      <th>Country_Region</th>\n",
              "      <th>ConfirmedCases</th>\n",
              "      <th>Fatalities</th>\n",
              "    </tr>\n",
              "  </thead>\n",
              "  <tbody>\n",
              "    <tr>\n",
              "      <th>78</th>\n",
              "      <td>India</td>\n",
              "      <td>2066.833333</td>\n",
              "      <td>65.888889</td>\n",
              "    </tr>\n",
              "  </tbody>\n",
              "</table>\n",
              "</div>"
            ],
            "text/plain": [
              "   Country_Region  ConfirmedCases  Fatalities\n",
              "78          India     2066.833333   65.888889"
            ]
          },
          "metadata": {
            "tags": []
          },
          "execution_count": 70
        }
      ]
    },
    {
      "cell_type": "code",
      "metadata": {
        "id": "fTxtcc0i3k3z",
        "colab_type": "code",
        "colab": {
          "base_uri": "https://localhost:8080/",
          "height": 270
        },
        "outputId": "359391d8-33ce-4cab-9986-247717f941e5"
      },
      "source": [
        "# Relation between Fatalities and Confirmed Cases\n",
        "Top10[:20].plot.scatter('Country_Region', 'ConfirmedCases', c='Fatalities', colormap='Spectral')"
      ],
      "execution_count": 114,
      "outputs": [
        {
          "output_type": "execute_result",
          "data": {
            "text/plain": [
              "<matplotlib.axes._subplots.AxesSubplot at 0x7f3a24905e10>"
            ]
          },
          "metadata": {
            "tags": []
          },
          "execution_count": 114
        },
        {
          "output_type": "display_data",
          "data": {
            "image/png": "[encoded data removed]",
            "text/plain": [
              "<Figure size 432x288 with 2 Axes>"
            ]
          },
          "metadata": {
            "tags": [],
            "needs_background": "dark"
          }
        }
      ]
    },
    {
      "cell_type": "code",
      "metadata": {
        "id": "FTbAHxXDtB7C",
        "colab_type": "code",
        "colab": {
          "base_uri": "https://localhost:8080/",
          "height": 35
        },
        "outputId": "83d6e52a-16b1-4770-d046-84616b2f3c71"
      },
      "source": [
        "# Relation between fatalities and confirmed cases\n",
        "df['Fatalities'].corr(df['ConfirmedCases'])"
      ],
      "execution_count": 115,
      "outputs": [
        {
          "output_type": "execute_result",
          "data": {
            "text/plain": [
              "0.8906165097252351"
            ]
          },
          "metadata": {
            "tags": []
          },
          "execution_count": 115
        }
      ]
    },
    {
      "cell_type": "markdown",
      "metadata": {
        "id": "kdp8upho7CRs",
        "colab_type": "text"
      },
      "source": [
        "### Convert data to numerical/category dtype"
      ]
    },
    {
      "cell_type": "code",
      "metadata": {
        "id": "5PDaSqQazajK",
        "colab_type": "code",
        "outputId": "4d8ee2e7-3f23-4db2-ce22-34a7c3c05111",
        "colab": {
          "base_uri": "https://localhost:8080/",
          "height": 54
        }
      },
      "source": [
        "#Check which content is string\n",
        "for label,content in df.items():\n",
        "  if pd.api.types.is_string_dtype(content):\n",
        "    print(label)"
      ],
      "execution_count": 0,
      "outputs": [
        {
          "output_type": "stream",
          "text": [
            "Province_State\n",
            "Country_Region\n"
          ],
          "name": "stdout"
        }
      ]
    },
    {
      "cell_type": "code",
      "metadata": {
        "id": "4w6EiaeBqRCa",
        "colab_type": "code",
        "colab": {}
      },
      "source": [
        "#Convert all string contents into categories\n",
        "for label,content in df.items():\n",
        "  if pd.api.types.is_string_dtype(content):\n",
        "    df[label] = content.astype(\"category\").cat.as_ordered()"
      ],
      "execution_count": 0,
      "outputs": []
    },
    {
      "cell_type": "code",
      "metadata": {
        "id": "Qwvd8jRsw2o6",
        "colab_type": "code",
        "outputId": "fb317ef8-2807-4b43-d3ad-a5bbc7f39e3d",
        "colab": {
          "base_uri": "https://localhost:8080/",
          "height": 326
        }
      },
      "source": [
        "df.info()"
      ],
      "execution_count": 0,
      "outputs": [
        {
          "output_type": "stream",
          "text": [
            "<class 'pandas.core.frame.DataFrame'>\n",
            "RangeIndex: 28170 entries, 0 to 28169\n",
            "Data columns (total 10 columns):\n",
            " #   Column          Non-Null Count  Dtype   \n",
            "---  ------          --------------  -----   \n",
            " 0   Id              28170 non-null  int64   \n",
            " 1   Province_State  11970 non-null  category\n",
            " 2   Country_Region  28170 non-null  category\n",
            " 3   ConfirmedCases  28170 non-null  float64 \n",
            " 4   Fatalities      28170 non-null  float64 \n",
            " 5   Year            28170 non-null  int64   \n",
            " 6   Month           28170 non-null  int64   \n",
            " 7   Day             28170 non-null  int64   \n",
            " 8   DayOfWeek       28170 non-null  int64   \n",
            " 9   DayOfYear       28170 non-null  int64   \n",
            "dtypes: category(2), float64(2), int64(6)\n",
            "memory usage: 1.8 MB\n"
          ],
          "name": "stdout"
        }
      ]
    },
    {
      "cell_type": "code",
      "metadata": {
        "id": "nea97zhBypHT",
        "colab_type": "code",
        "outputId": "dff8b6db-13bc-4cd6-98de-4c6c06d6ca0c",
        "colab": {
          "base_uri": "https://localhost:8080/",
          "height": 254
        }
      },
      "source": [
        "#Now the string data is stored as numeric codes (Two ways of display)\n",
        "df.Country_Region.cat.codes, pd.Categorical(df[\"Province_State\"]).codes"
      ],
      "execution_count": 0,
      "outputs": [
        {
          "output_type": "execute_result",
          "data": {
            "text/plain": [
              "(0          0\n",
              " 1          0\n",
              " 2          0\n",
              " 3          0\n",
              " 4          0\n",
              "         ... \n",
              " 28165    183\n",
              " 28166    183\n",
              " 28167    183\n",
              " 28168    183\n",
              " 28169    183\n",
              " Length: 28170, dtype: int16,\n",
              " array([-1, -1, -1, ..., -1, -1, -1], dtype=int16))"
            ]
          },
          "metadata": {
            "tags": []
          },
          "execution_count": 16
        }
      ]
    },
    {
      "cell_type": "markdown",
      "metadata": {
        "id": "Ue3dZNjO6smu",
        "colab_type": "text"
      },
      "source": [
        "### Missing Values"
      ]
    },
    {
      "cell_type": "code",
      "metadata": {
        "id": "5V2qPBLjzgl1",
        "colab_type": "code",
        "outputId": "a925a5d4-213e-4642-8064-7424b47a007a",
        "colab": {
          "base_uri": "https://localhost:8080/",
          "height": 217
        }
      },
      "source": [
        "#Check for missing values\n",
        "df.isna().sum()"
      ],
      "execution_count": 0,
      "outputs": [
        {
          "output_type": "execute_result",
          "data": {
            "text/plain": [
              "Id                    0\n",
              "Province_State    16200\n",
              "Country_Region        0\n",
              "ConfirmedCases        0\n",
              "Fatalities            0\n",
              "Year                  0\n",
              "Month                 0\n",
              "Day                   0\n",
              "DayOfWeek             0\n",
              "DayOfYear             0\n",
              "dtype: int64"
            ]
          },
          "metadata": {
            "tags": []
          },
          "execution_count": 17
        }
      ]
    },
    {
      "cell_type": "code",
      "metadata": {
        "id": "4zEfTJcZz1IY",
        "colab_type": "code",
        "colab": {}
      },
      "source": [
        "#Check for missing numerical values\n",
        "for label,content in df.items():\n",
        "  if pd.api.types.is_numeric_dtype(content):\n",
        "    if pd.isnull(content).sum():\n",
        "      print(label)"
      ],
      "execution_count": 0,
      "outputs": []
    },
    {
      "cell_type": "code",
      "metadata": {
        "id": "HWmRNAcQlc6C",
        "colab_type": "code",
        "outputId": "8badeeed-2e50-4794-a20e-4481fce49145",
        "colab": {
          "base_uri": "https://localhost:8080/",
          "height": 54
        }
      },
      "source": [
        "#Check for missing categorial values\n",
        "for label,content in df.items():\n",
        "  if not pd.api.types.is_numeric_dtype(content):\n",
        "      print(label)"
      ],
      "execution_count": 0,
      "outputs": [
        {
          "output_type": "stream",
          "text": [
            "Province_State\n",
            "Country_Region\n"
          ],
          "name": "stdout"
        }
      ]
    },
    {
      "cell_type": "code",
      "metadata": {
        "id": "2LENVmGsl_bJ",
        "colab_type": "code",
        "outputId": "46737a16-12ec-4260-b2b6-0cacb53c11a8",
        "colab": {
          "base_uri": "https://localhost:8080/",
          "height": 35
        }
      },
      "source": [
        "#Turn categorial values into no. and fill missing\n",
        "for label,content in df.items():\n",
        "  if not pd.api.types.is_numeric_dtype(content):\n",
        "    \n",
        "    #Add Binary value to indicate whether sample has missing value\n",
        "    df[label+'is_missing'] = pd.isnull(content)\n",
        "\n",
        "    #Turn categories into numbers and add 1 (for categories which have values = -1)\n",
        "    df[label] = pd.Categorical(content).codes +1\n",
        "\n",
        "#Now two columns will be added to compensate for missing values\n",
        "df.shape"
      ],
      "execution_count": 0,
      "outputs": [
        {
          "output_type": "execute_result",
          "data": {
            "text/plain": [
              "(28170, 12)"
            ]
          },
          "metadata": {
            "tags": []
          },
          "execution_count": 20
        }
      ]
    },
    {
      "cell_type": "code",
      "metadata": {
        "id": "JNHNEX_KoMao",
        "colab_type": "code",
        "outputId": "7c8ede7b-65fe-44d7-dfd2-6bbd5f52e4d5",
        "colab": {
          "base_uri": "https://localhost:8080/",
          "height": 254
        }
      },
      "source": [
        "#Check for missing values\n",
        "df.isna().sum()"
      ],
      "execution_count": 0,
      "outputs": [
        {
          "output_type": "execute_result",
          "data": {
            "text/plain": [
              "Id                          0\n",
              "Province_State              0\n",
              "Country_Region              0\n",
              "ConfirmedCases              0\n",
              "Fatalities                  0\n",
              "Year                        0\n",
              "Month                       0\n",
              "Day                         0\n",
              "DayOfWeek                   0\n",
              "DayOfYear                   0\n",
              "Province_Stateis_missing    0\n",
              "Country_Regionis_missing    0\n",
              "dtype: int64"
            ]
          },
          "metadata": {
            "tags": []
          },
          "execution_count": 21
        }
      ]
    },
    {
      "cell_type": "markdown",
      "metadata": {
        "id": "txfzgTVZoQ_x",
        "colab_type": "text"
      },
      "source": [
        "## Modelling\n"
      ]
    },
    {
      "cell_type": "markdown",
      "metadata": {
        "id": "c704i73v7wXq",
        "colab_type": "text"
      },
      "source": [
        "### Prepare tools and get data ready"
      ]
    },
    {
      "cell_type": "code",
      "metadata": {
        "id": "2a81043frX51",
        "colab_type": "code",
        "colab": {}
      },
      "source": [
        "#Import libraries\n",
        "\n",
        "import sklearn\n",
        "from sklearn.ensemble import RandomForestRegressor\n",
        "from sklearn.model_selection import train_test_split,cross_val_score\n",
        "from sklearn.model_selection import RandomizedSearchCV,GridSearchCV\n",
        "from sklearn.metrics import r2_score, mean_absolute_error, mean_squared_error"
      ],
      "execution_count": 0,
      "outputs": []
    },
    {
      "cell_type": "code",
      "metadata": {
        "id": "svkFz6sGqHK-",
        "colab_type": "code",
        "colab": {}
      },
      "source": [
        "#Get data ready\n",
        "x = df.drop(\"Fatalities\",axis=1)\n",
        "y = df[\"Fatalities\"]\n",
        "\n",
        "\n",
        "#Split the data\n",
        "x_train,x_valid,y_train,y_valid = train_test_split(x,y,test_size=0.2)"
      ],
      "execution_count": 0,
      "outputs": []
    },
    {
      "cell_type": "markdown",
      "metadata": {
        "id": "FLdAwXBN763m",
        "colab_type": "text"
      },
      "source": [
        "### Fit the model and calculate score "
      ]
    },
    {
      "cell_type": "code",
      "metadata": {
        "id": "X1A05HpIxGTV",
        "colab_type": "code",
        "outputId": "6e3e4837-b3ff-4a01-e9f3-a2b063cd014e",
        "colab": {
          "base_uri": "https://localhost:8080/",
          "height": 181
        }
      },
      "source": [
        "%%time\n",
        "\n",
        "#Instantiate the classifier\n",
        "clf = RandomForestRegressor(n_jobs=1, random_state=42)\n",
        "\n",
        "#Fit the model\n",
        "clf.fit(x_train,y_train)\n",
        "print(clf)"
      ],
      "execution_count": 0,
      "outputs": [
        {
          "output_type": "stream",
          "text": [
            "RandomForestRegressor(bootstrap=True, ccp_alpha=0.0, criterion='mse',\n",
            "                      max_depth=None, max_features='auto', max_leaf_nodes=None,\n",
            "                      max_samples=None, min_impurity_decrease=0.0,\n",
            "                      min_impurity_split=None, min_samples_leaf=1,\n",
            "                      min_samples_split=2, min_weight_fraction_leaf=0.0,\n",
            "                      n_estimators=100, n_jobs=1, oob_score=False,\n",
            "                      random_state=42, verbose=0, warm_start=False)\n",
            "CPU times: user 8.47 s, sys: 3.98 ms, total: 8.47 s\n",
            "Wall time: 8.48 s\n"
          ],
          "name": "stdout"
        }
      ]
    },
    {
      "cell_type": "code",
      "metadata": {
        "id": "HCTxsL7_tFCJ",
        "colab_type": "code",
        "outputId": "5a4d68f1-0646-4b79-faff-4558301c9311",
        "colab": {
          "base_uri": "https://localhost:8080/",
          "height": 35
        }
      },
      "source": [
        "#Prediction\n",
        "y_preds = clf.predict(x_valid)\n",
        "y_preds\n"
      ],
      "execution_count": 0,
      "outputs": [
        {
          "output_type": "execute_result",
          "data": {
            "text/plain": [
              "array([ 0.  ,  0.  ,  0.97, ...,  0.73, 10.92,  0.04])"
            ]
          },
          "metadata": {
            "tags": []
          },
          "execution_count": 78
        }
      ]
    },
    {
      "cell_type": "code",
      "metadata": {
        "id": "aNkDzTjdA0PJ",
        "colab_type": "code",
        "outputId": "0974022c-6fd4-43e3-fc0d-d64899510f1e",
        "colab": {
          "base_uri": "https://localhost:8080/",
          "height": 35
        }
      },
      "source": [
        "\n",
        "#Actual data\n",
        "np.array(y_valid)\n"
      ],
      "execution_count": 0,
      "outputs": [
        {
          "output_type": "execute_result",
          "data": {
            "text/plain": [
              "array([ 0.,  0.,  1., ...,  0., 10.,  0.])"
            ]
          },
          "metadata": {
            "tags": []
          },
          "execution_count": 79
        }
      ]
    },
    {
      "cell_type": "code",
      "metadata": {
        "id": "DJhjXRc7A-Ls",
        "colab_type": "code",
        "outputId": "9b5f634f-5791-4fbb-9743-5cd72500f03f",
        "colab": {
          "base_uri": "https://localhost:8080/",
          "height": 35
        }
      },
      "source": [
        "\n",
        "#Score\n",
        "clf.score(x_valid,y_valid)"
      ],
      "execution_count": 0,
      "outputs": [
        {
          "output_type": "execute_result",
          "data": {
            "text/plain": [
              "0.9678486504471759"
            ]
          },
          "metadata": {
            "tags": []
          },
          "execution_count": 80
        }
      ]
    },
    {
      "cell_type": "markdown",
      "metadata": {
        "id": "TdZJjNCy8P27",
        "colab_type": "text"
      },
      "source": [
        "### Improve the model"
      ]
    },
    {
      "cell_type": "code",
      "metadata": {
        "id": "7doXd-Ymwqdt",
        "colab_type": "code",
        "outputId": "56f31621-61e3-4c28-f5e8-22c0b8215e3e",
        "colab": {
          "base_uri": "https://localhost:8080/",
          "height": 108
        }
      },
      "source": [
        "#Improve the model using RandomizedSearchCV\n",
        "%%time\n",
        "\n",
        "#Different RandomForestRegressor hyperparameters\n",
        "rf_grid = {\"n_estimators\": np.arange(10, 100, 10),\n",
        "           \"max_depth\": [None, 3, 5, 10],\n",
        "           \"min_samples_split\": np.arange(2, 20, 2),\n",
        "           \"min_samples_leaf\": np.arange(1, 20, 2),\n",
        "           \"max_features\": [0.5, 1, \"auto\", \"sqrt\"]}\n",
        "      \n",
        "# Setup random hyperparameter search for RandomForestClassifier\n",
        "rs_model = RandomizedSearchCV(RandomForestRegressor(n_jobs=1,random_state=42), \n",
        "                           param_distributions=rf_grid,\n",
        "                           n_iter=5,\n",
        "                           cv=5,\n",
        "                           verbose=True)\n",
        "\n",
        "# Fit random hyperparameter search model for RandomForestClassifier()\n",
        "rs_model.fit(x_train, y_train)"
      ],
      "execution_count": 0,
      "outputs": [
        {
          "output_type": "stream",
          "text": [
            "Fitting 5 folds for each of 5 candidates, totalling 25 fits\n"
          ],
          "name": "stdout"
        },
        {
          "output_type": "stream",
          "text": [
            "[Parallel(n_jobs=1)]: Using backend SequentialBackend with 1 concurrent workers.\n",
            "[Parallel(n_jobs=1)]: Done  25 out of  25 | elapsed:   13.1s finished\n"
          ],
          "name": "stderr"
        },
        {
          "output_type": "stream",
          "text": [
            "CPU times: user 14 s, sys: 14 ms, total: 14 s\n",
            "Wall time: 14 s\n"
          ],
          "name": "stdout"
        }
      ]
    },
    {
      "cell_type": "code",
      "metadata": {
        "id": "ffB56MYc2FeH",
        "colab_type": "code",
        "outputId": "a896dff4-aca0-4c3f-ba34-5aa8113c105c",
        "colab": {
          "base_uri": "https://localhost:8080/",
          "height": 108
        }
      },
      "source": [
        "# Find the best hyperparameters\n",
        "rs_model.best_params_"
      ],
      "execution_count": 0,
      "outputs": [
        {
          "output_type": "execute_result",
          "data": {
            "text/plain": [
              "{'max_depth': None,\n",
              " 'max_features': 'sqrt',\n",
              " 'min_samples_leaf': 1,\n",
              " 'min_samples_split': 8,\n",
              " 'n_estimators': 40}"
            ]
          },
          "metadata": {
            "tags": []
          },
          "execution_count": 132
        }
      ]
    },
    {
      "cell_type": "code",
      "metadata": {
        "id": "L9Q7oXd82qUa",
        "colab_type": "code",
        "outputId": "99b9f045-e6ae-4d67-d01b-3cd99e59a158",
        "colab": {
          "base_uri": "https://localhost:8080/",
          "height": 35
        }
      },
      "source": [
        "rs_model.score(x_valid,y_valid)"
      ],
      "execution_count": 0,
      "outputs": [
        {
          "output_type": "execute_result",
          "data": {
            "text/plain": [
              "0.9450912059191642"
            ]
          },
          "metadata": {
            "tags": []
          },
          "execution_count": 133
        }
      ]
    },
    {
      "cell_type": "code",
      "metadata": {
        "id": "X6KQobbt6XDg",
        "colab_type": "code",
        "outputId": "5f44e12e-10fb-4e82-e88f-498ea59edfcb",
        "colab": {
          "base_uri": "https://localhost:8080/",
          "height": 1000
        }
      },
      "source": [
        "#Improve the model using GridSearchCV \n",
        "%%time\n",
        "\n",
        "#Different RandomForestRegressor hyperparameters\n",
        "grid = {\"n_estimators\": [40,100],\n",
        "        \"min_samples_split\": [8,10],\n",
        "        \"min_samples_leaf\": [1,2],\n",
        "        \"max_features\": [\"auto\",\"sqrt\"]}\n",
        "\n",
        "gs_model = GridSearchCV(RandomForestRegressor(n_jobs=1,random_state=42),\n",
        "                           param_grid=grid,\n",
        "                           cv=5,\n",
        "                           verbose=2)\n",
        "\n",
        "gs_model.fit(x_train,y_train)"
      ],
      "execution_count": 0,
      "outputs": [
        {
          "output_type": "stream",
          "text": [
            "Fitting 5 folds for each of 16 candidates, totalling 80 fits\n",
            "[CV] max_features=auto, min_samples_leaf=1, min_samples_split=8, n_estimators=40 \n"
          ],
          "name": "stdout"
        },
        {
          "output_type": "stream",
          "text": [
            "[Parallel(n_jobs=1)]: Using backend SequentialBackend with 1 concurrent workers.\n"
          ],
          "name": "stderr"
        },
        {
          "output_type": "stream",
          "text": [
            "[CV]  max_features=auto, min_samples_leaf=1, min_samples_split=8, n_estimators=40, total=   2.6s\n",
            "[CV] max_features=auto, min_samples_leaf=1, min_samples_split=8, n_estimators=40 \n"
          ],
          "name": "stdout"
        },
        {
          "output_type": "stream",
          "text": [
            "[Parallel(n_jobs=1)]: Done   1 out of   1 | elapsed:    2.7s remaining:    0.0s\n"
          ],
          "name": "stderr"
        },
        {
          "output_type": "stream",
          "text": [
            "[CV]  max_features=auto, min_samples_leaf=1, min_samples_split=8, n_estimators=40, total=   2.7s\n",
            "[CV] max_features=auto, min_samples_leaf=1, min_samples_split=8, n_estimators=40 \n",
            "[CV]  max_features=auto, min_samples_leaf=1, min_samples_split=8, n_estimators=40, total=   2.6s\n",
            "[CV] max_features=auto, min_samples_leaf=1, min_samples_split=8, n_estimators=40 \n",
            "[CV]  max_features=auto, min_samples_leaf=1, min_samples_split=8, n_estimators=40, total=   2.6s\n",
            "[CV] max_features=auto, min_samples_leaf=1, min_samples_split=8, n_estimators=40 \n",
            "[CV]  max_features=auto, min_samples_leaf=1, min_samples_split=8, n_estimators=40, total=   2.6s\n",
            "[CV] max_features=auto, min_samples_leaf=1, min_samples_split=8, n_estimators=100 \n",
            "[CV]  max_features=auto, min_samples_leaf=1, min_samples_split=8, n_estimators=100, total=   6.5s\n",
            "[CV] max_features=auto, min_samples_leaf=1, min_samples_split=8, n_estimators=100 \n",
            "[CV]  max_features=auto, min_samples_leaf=1, min_samples_split=8, n_estimators=100, total=   6.5s\n",
            "[CV] max_features=auto, min_samples_leaf=1, min_samples_split=8, n_estimators=100 \n",
            "[CV]  max_features=auto, min_samples_leaf=1, min_samples_split=8, n_estimators=100, total=   6.5s\n",
            "[CV] max_features=auto, min_samples_leaf=1, min_samples_split=8, n_estimators=100 \n",
            "[CV]  max_features=auto, min_samples_leaf=1, min_samples_split=8, n_estimators=100, total=   6.5s\n",
            "[CV] max_features=auto, min_samples_leaf=1, min_samples_split=8, n_estimators=100 \n",
            "[CV]  max_features=auto, min_samples_leaf=1, min_samples_split=8, n_estimators=100, total=   6.5s\n",
            "[CV] max_features=auto, min_samples_leaf=1, min_samples_split=10, n_estimators=40 \n",
            "[CV]  max_features=auto, min_samples_leaf=1, min_samples_split=10, n_estimators=40, total=   2.6s\n",
            "[CV] max_features=auto, min_samples_leaf=1, min_samples_split=10, n_estimators=40 \n",
            "[CV]  max_features=auto, min_samples_leaf=1, min_samples_split=10, n_estimators=40, total=   2.6s\n",
            "[CV] max_features=auto, min_samples_leaf=1, min_samples_split=10, n_estimators=40 \n",
            "[CV]  max_features=auto, min_samples_leaf=1, min_samples_split=10, n_estimators=40, total=   2.6s\n",
            "[CV] max_features=auto, min_samples_leaf=1, min_samples_split=10, n_estimators=40 \n",
            "[CV]  max_features=auto, min_samples_leaf=1, min_samples_split=10, n_estimators=40, total=   2.6s\n",
            "[CV] max_features=auto, min_samples_leaf=1, min_samples_split=10, n_estimators=40 \n",
            "[CV]  max_features=auto, min_samples_leaf=1, min_samples_split=10, n_estimators=40, total=   2.6s\n",
            "[CV] max_features=auto, min_samples_leaf=1, min_samples_split=10, n_estimators=100 \n",
            "[CV]  max_features=auto, min_samples_leaf=1, min_samples_split=10, n_estimators=100, total=   6.4s\n",
            "[CV] max_features=auto, min_samples_leaf=1, min_samples_split=10, n_estimators=100 \n",
            "[CV]  max_features=auto, min_samples_leaf=1, min_samples_split=10, n_estimators=100, total=   6.4s\n",
            "[CV] max_features=auto, min_samples_leaf=1, min_samples_split=10, n_estimators=100 \n",
            "[CV]  max_features=auto, min_samples_leaf=1, min_samples_split=10, n_estimators=100, total=   6.4s\n",
            "[CV] max_features=auto, min_samples_leaf=1, min_samples_split=10, n_estimators=100 \n",
            "[CV]  max_features=auto, min_samples_leaf=1, min_samples_split=10, n_estimators=100, total=   6.4s\n",
            "[CV] max_features=auto, min_samples_leaf=1, min_samples_split=10, n_estimators=100 \n",
            "[CV]  max_features=auto, min_samples_leaf=1, min_samples_split=10, n_estimators=100, total=   6.4s\n",
            "[CV] max_features=auto, min_samples_leaf=2, min_samples_split=8, n_estimators=40 \n",
            "[CV]  max_features=auto, min_samples_leaf=2, min_samples_split=8, n_estimators=40, total=   2.6s\n",
            "[CV] max_features=auto, min_samples_leaf=2, min_samples_split=8, n_estimators=40 \n",
            "[CV]  max_features=auto, min_samples_leaf=2, min_samples_split=8, n_estimators=40, total=   2.6s\n",
            "[CV] max_features=auto, min_samples_leaf=2, min_samples_split=8, n_estimators=40 \n",
            "[CV]  max_features=auto, min_samples_leaf=2, min_samples_split=8, n_estimators=40, total=   2.6s\n",
            "[CV] max_features=auto, min_samples_leaf=2, min_samples_split=8, n_estimators=40 \n",
            "[CV]  max_features=auto, min_samples_leaf=2, min_samples_split=8, n_estimators=40, total=   2.6s\n",
            "[CV] max_features=auto, min_samples_leaf=2, min_samples_split=8, n_estimators=40 \n",
            "[CV]  max_features=auto, min_samples_leaf=2, min_samples_split=8, n_estimators=40, total=   2.6s\n",
            "[CV] max_features=auto, min_samples_leaf=2, min_samples_split=8, n_estimators=100 \n",
            "[CV]  max_features=auto, min_samples_leaf=2, min_samples_split=8, n_estimators=100, total=   6.4s\n",
            "[CV] max_features=auto, min_samples_leaf=2, min_samples_split=8, n_estimators=100 \n",
            "[CV]  max_features=auto, min_samples_leaf=2, min_samples_split=8, n_estimators=100, total=   6.4s\n",
            "[CV] max_features=auto, min_samples_leaf=2, min_samples_split=8, n_estimators=100 \n",
            "[CV]  max_features=auto, min_samples_leaf=2, min_samples_split=8, n_estimators=100, total=   6.4s\n",
            "[CV] max_features=auto, min_samples_leaf=2, min_samples_split=8, n_estimators=100 \n",
            "[CV]  max_features=auto, min_samples_leaf=2, min_samples_split=8, n_estimators=100, total=   6.4s\n",
            "[CV] max_features=auto, min_samples_leaf=2, min_samples_split=8, n_estimators=100 \n",
            "[CV]  max_features=auto, min_samples_leaf=2, min_samples_split=8, n_estimators=100, total=   6.5s\n",
            "[CV] max_features=auto, min_samples_leaf=2, min_samples_split=10, n_estimators=40 \n",
            "[CV]  max_features=auto, min_samples_leaf=2, min_samples_split=10, n_estimators=40, total=   2.6s\n",
            "[CV] max_features=auto, min_samples_leaf=2, min_samples_split=10, n_estimators=40 \n",
            "[CV]  max_features=auto, min_samples_leaf=2, min_samples_split=10, n_estimators=40, total=   2.6s\n",
            "[CV] max_features=auto, min_samples_leaf=2, min_samples_split=10, n_estimators=40 \n",
            "[CV]  max_features=auto, min_samples_leaf=2, min_samples_split=10, n_estimators=40, total=   2.5s\n",
            "[CV] max_features=auto, min_samples_leaf=2, min_samples_split=10, n_estimators=40 \n",
            "[CV]  max_features=auto, min_samples_leaf=2, min_samples_split=10, n_estimators=40, total=   2.6s\n",
            "[CV] max_features=auto, min_samples_leaf=2, min_samples_split=10, n_estimators=40 \n",
            "[CV]  max_features=auto, min_samples_leaf=2, min_samples_split=10, n_estimators=40, total=   2.6s\n",
            "[CV] max_features=auto, min_samples_leaf=2, min_samples_split=10, n_estimators=100 \n",
            "[CV]  max_features=auto, min_samples_leaf=2, min_samples_split=10, n_estimators=100, total=   6.4s\n",
            "[CV] max_features=auto, min_samples_leaf=2, min_samples_split=10, n_estimators=100 \n",
            "[CV]  max_features=auto, min_samples_leaf=2, min_samples_split=10, n_estimators=100, total=   6.4s\n",
            "[CV] max_features=auto, min_samples_leaf=2, min_samples_split=10, n_estimators=100 \n",
            "[CV]  max_features=auto, min_samples_leaf=2, min_samples_split=10, n_estimators=100, total=   6.3s\n",
            "[CV] max_features=auto, min_samples_leaf=2, min_samples_split=10, n_estimators=100 \n",
            "[CV]  max_features=auto, min_samples_leaf=2, min_samples_split=10, n_estimators=100, total=   6.4s\n",
            "[CV] max_features=auto, min_samples_leaf=2, min_samples_split=10, n_estimators=100 \n",
            "[CV]  max_features=auto, min_samples_leaf=2, min_samples_split=10, n_estimators=100, total=   6.4s\n",
            "[CV] max_features=sqrt, min_samples_leaf=1, min_samples_split=8, n_estimators=40 \n",
            "[CV]  max_features=sqrt, min_samples_leaf=1, min_samples_split=8, n_estimators=40, total=   0.8s\n",
            "[CV] max_features=sqrt, min_samples_leaf=1, min_samples_split=8, n_estimators=40 \n",
            "[CV]  max_features=sqrt, min_samples_leaf=1, min_samples_split=8, n_estimators=40, total=   0.8s\n",
            "[CV] max_features=sqrt, min_samples_leaf=1, min_samples_split=8, n_estimators=40 \n",
            "[CV]  max_features=sqrt, min_samples_leaf=1, min_samples_split=8, n_estimators=40, total=   0.8s\n",
            "[CV] max_features=sqrt, min_samples_leaf=1, min_samples_split=8, n_estimators=40 \n",
            "[CV]  max_features=sqrt, min_samples_leaf=1, min_samples_split=8, n_estimators=40, total=   0.8s\n",
            "[CV] max_features=sqrt, min_samples_leaf=1, min_samples_split=8, n_estimators=40 \n",
            "[CV]  max_features=sqrt, min_samples_leaf=1, min_samples_split=8, n_estimators=40, total=   0.8s\n",
            "[CV] max_features=sqrt, min_samples_leaf=1, min_samples_split=8, n_estimators=100 \n",
            "[CV]  max_features=sqrt, min_samples_leaf=1, min_samples_split=8, n_estimators=100, total=   2.0s\n",
            "[CV] max_features=sqrt, min_samples_leaf=1, min_samples_split=8, n_estimators=100 \n",
            "[CV]  max_features=sqrt, min_samples_leaf=1, min_samples_split=8, n_estimators=100, total=   2.0s\n",
            "[CV] max_features=sqrt, min_samples_leaf=1, min_samples_split=8, n_estimators=100 \n",
            "[CV]  max_features=sqrt, min_samples_leaf=1, min_samples_split=8, n_estimators=100, total=   2.0s\n",
            "[CV] max_features=sqrt, min_samples_leaf=1, min_samples_split=8, n_estimators=100 \n",
            "[CV]  max_features=sqrt, min_samples_leaf=1, min_samples_split=8, n_estimators=100, total=   2.0s\n",
            "[CV] max_features=sqrt, min_samples_leaf=1, min_samples_split=8, n_estimators=100 \n",
            "[CV]  max_features=sqrt, min_samples_leaf=1, min_samples_split=8, n_estimators=100, total=   2.0s\n",
            "[CV] max_features=sqrt, min_samples_leaf=1, min_samples_split=10, n_estimators=40 \n",
            "[CV]  max_features=sqrt, min_samples_leaf=1, min_samples_split=10, n_estimators=40, total=   0.8s\n",
            "[CV] max_features=sqrt, min_samples_leaf=1, min_samples_split=10, n_estimators=40 \n",
            "[CV]  max_features=sqrt, min_samples_leaf=1, min_samples_split=10, n_estimators=40, total=   0.8s\n",
            "[CV] max_features=sqrt, min_samples_leaf=1, min_samples_split=10, n_estimators=40 \n",
            "[CV]  max_features=sqrt, min_samples_leaf=1, min_samples_split=10, n_estimators=40, total=   0.8s\n",
            "[CV] max_features=sqrt, min_samples_leaf=1, min_samples_split=10, n_estimators=40 \n",
            "[CV]  max_features=sqrt, min_samples_leaf=1, min_samples_split=10, n_estimators=40, total=   0.8s\n",
            "[CV] max_features=sqrt, min_samples_leaf=1, min_samples_split=10, n_estimators=40 \n",
            "[CV]  max_features=sqrt, min_samples_leaf=1, min_samples_split=10, n_estimators=40, total=   0.8s\n",
            "[CV] max_features=sqrt, min_samples_leaf=1, min_samples_split=10, n_estimators=100 \n",
            "[CV]  max_features=sqrt, min_samples_leaf=1, min_samples_split=10, n_estimators=100, total=   2.0s\n",
            "[CV] max_features=sqrt, min_samples_leaf=1, min_samples_split=10, n_estimators=100 \n",
            "[CV]  max_features=sqrt, min_samples_leaf=1, min_samples_split=10, n_estimators=100, total=   1.9s\n",
            "[CV] max_features=sqrt, min_samples_leaf=1, min_samples_split=10, n_estimators=100 \n",
            "[CV]  max_features=sqrt, min_samples_leaf=1, min_samples_split=10, n_estimators=100, total=   2.0s\n",
            "[CV] max_features=sqrt, min_samples_leaf=1, min_samples_split=10, n_estimators=100 \n",
            "[CV]  max_features=sqrt, min_samples_leaf=1, min_samples_split=10, n_estimators=100, total=   1.9s\n",
            "[CV] max_features=sqrt, min_samples_leaf=1, min_samples_split=10, n_estimators=100 \n",
            "[CV]  max_features=sqrt, min_samples_leaf=1, min_samples_split=10, n_estimators=100, total=   2.0s\n",
            "[CV] max_features=sqrt, min_samples_leaf=2, min_samples_split=8, n_estimators=40 \n",
            "[CV]  max_features=sqrt, min_samples_leaf=2, min_samples_split=8, n_estimators=40, total=   0.8s\n",
            "[CV] max_features=sqrt, min_samples_leaf=2, min_samples_split=8, n_estimators=40 \n",
            "[CV]  max_features=sqrt, min_samples_leaf=2, min_samples_split=8, n_estimators=40, total=   0.8s\n",
            "[CV] max_features=sqrt, min_samples_leaf=2, min_samples_split=8, n_estimators=40 \n",
            "[CV]  max_features=sqrt, min_samples_leaf=2, min_samples_split=8, n_estimators=40, total=   0.8s\n",
            "[CV] max_features=sqrt, min_samples_leaf=2, min_samples_split=8, n_estimators=40 \n",
            "[CV]  max_features=sqrt, min_samples_leaf=2, min_samples_split=8, n_estimators=40, total=   0.8s\n",
            "[CV] max_features=sqrt, min_samples_leaf=2, min_samples_split=8, n_estimators=40 \n",
            "[CV]  max_features=sqrt, min_samples_leaf=2, min_samples_split=8, n_estimators=40, total=   0.8s\n",
            "[CV] max_features=sqrt, min_samples_leaf=2, min_samples_split=8, n_estimators=100 \n",
            "[CV]  max_features=sqrt, min_samples_leaf=2, min_samples_split=8, n_estimators=100, total=   1.9s\n",
            "[CV] max_features=sqrt, min_samples_leaf=2, min_samples_split=8, n_estimators=100 \n",
            "[CV]  max_features=sqrt, min_samples_leaf=2, min_samples_split=8, n_estimators=100, total=   2.0s\n",
            "[CV] max_features=sqrt, min_samples_leaf=2, min_samples_split=8, n_estimators=100 \n",
            "[CV]  max_features=sqrt, min_samples_leaf=2, min_samples_split=8, n_estimators=100, total=   1.9s\n",
            "[CV] max_features=sqrt, min_samples_leaf=2, min_samples_split=8, n_estimators=100 \n",
            "[CV]  max_features=sqrt, min_samples_leaf=2, min_samples_split=8, n_estimators=100, total=   1.9s\n",
            "[CV] max_features=sqrt, min_samples_leaf=2, min_samples_split=8, n_estimators=100 \n",
            "[CV]  max_features=sqrt, min_samples_leaf=2, min_samples_split=8, n_estimators=100, total=   1.9s\n",
            "[CV] max_features=sqrt, min_samples_leaf=2, min_samples_split=10, n_estimators=40 \n",
            "[CV]  max_features=sqrt, min_samples_leaf=2, min_samples_split=10, n_estimators=40, total=   0.8s\n",
            "[CV] max_features=sqrt, min_samples_leaf=2, min_samples_split=10, n_estimators=40 \n",
            "[CV]  max_features=sqrt, min_samples_leaf=2, min_samples_split=10, n_estimators=40, total=   0.8s\n",
            "[CV] max_features=sqrt, min_samples_leaf=2, min_samples_split=10, n_estimators=40 \n",
            "[CV]  max_features=sqrt, min_samples_leaf=2, min_samples_split=10, n_estimators=40, total=   0.8s\n",
            "[CV] max_features=sqrt, min_samples_leaf=2, min_samples_split=10, n_estimators=40 \n",
            "[CV]  max_features=sqrt, min_samples_leaf=2, min_samples_split=10, n_estimators=40, total=   0.7s\n",
            "[CV] max_features=sqrt, min_samples_leaf=2, min_samples_split=10, n_estimators=40 \n",
            "[CV]  max_features=sqrt, min_samples_leaf=2, min_samples_split=10, n_estimators=40, total=   0.8s\n",
            "[CV] max_features=sqrt, min_samples_leaf=2, min_samples_split=10, n_estimators=100 \n",
            "[CV]  max_features=sqrt, min_samples_leaf=2, min_samples_split=10, n_estimators=100, total=   1.9s\n",
            "[CV] max_features=sqrt, min_samples_leaf=2, min_samples_split=10, n_estimators=100 \n",
            "[CV]  max_features=sqrt, min_samples_leaf=2, min_samples_split=10, n_estimators=100, total=   1.9s\n",
            "[CV] max_features=sqrt, min_samples_leaf=2, min_samples_split=10, n_estimators=100 \n",
            "[CV]  max_features=sqrt, min_samples_leaf=2, min_samples_split=10, n_estimators=100, total=   1.9s\n",
            "[CV] max_features=sqrt, min_samples_leaf=2, min_samples_split=10, n_estimators=100 \n",
            "[CV]  max_features=sqrt, min_samples_leaf=2, min_samples_split=10, n_estimators=100, total=   1.9s\n",
            "[CV] max_features=sqrt, min_samples_leaf=2, min_samples_split=10, n_estimators=100 \n",
            "[CV]  max_features=sqrt, min_samples_leaf=2, min_samples_split=10, n_estimators=100, total=   1.9s\n"
          ],
          "name": "stdout"
        },
        {
          "output_type": "stream",
          "text": [
            "[Parallel(n_jobs=1)]: Done  80 out of  80 | elapsed:  3.9min finished\n"
          ],
          "name": "stderr"
        },
        {
          "output_type": "stream",
          "text": [
            "CPU times: user 3min 57s, sys: 139 ms, total: 3min 57s\n",
            "Wall time: 3min 57s\n"
          ],
          "name": "stdout"
        }
      ]
    },
    {
      "cell_type": "code",
      "metadata": {
        "id": "HVZgiv_B-1t9",
        "colab_type": "code",
        "outputId": "3ccb3dc2-966f-4cf5-80c9-9ba2f144a42f",
        "colab": {
          "base_uri": "https://localhost:8080/",
          "height": 145
        }
      },
      "source": [
        "gs_model.best_estimator_"
      ],
      "execution_count": 0,
      "outputs": [
        {
          "output_type": "execute_result",
          "data": {
            "text/plain": [
              "RandomForestRegressor(bootstrap=True, ccp_alpha=0.0, criterion='mse',\n",
              "                      max_depth=None, max_features='sqrt', max_leaf_nodes=None,\n",
              "                      max_samples=None, min_impurity_decrease=0.0,\n",
              "                      min_impurity_split=None, min_samples_leaf=1,\n",
              "                      min_samples_split=8, min_weight_fraction_leaf=0.0,\n",
              "                      n_estimators=100, n_jobs=1, oob_score=False,\n",
              "                      random_state=42, verbose=0, warm_start=False)"
            ]
          },
          "metadata": {
            "tags": []
          },
          "execution_count": 135
        }
      ]
    },
    {
      "cell_type": "code",
      "metadata": {
        "id": "CRBOPvPrASpz",
        "colab_type": "code",
        "outputId": "c9092712-87f9-45f5-ec89-76b68cf52290",
        "colab": {
          "base_uri": "https://localhost:8080/",
          "height": 35
        }
      },
      "source": [
        "gs_model.score(x_valid,y_valid)"
      ],
      "execution_count": 0,
      "outputs": [
        {
          "output_type": "execute_result",
          "data": {
            "text/plain": [
              "0.9474425377702801"
            ]
          },
          "metadata": {
            "tags": []
          },
          "execution_count": 136
        }
      ]
    },
    {
      "cell_type": "markdown",
      "metadata": {
        "id": "QiIKzZre8ZYk",
        "colab_type": "text"
      },
      "source": [
        "### Choose best model for testing data"
      ]
    },
    {
      "cell_type": "code",
      "metadata": {
        "id": "j71F9dtUAwp-",
        "colab_type": "code",
        "outputId": "ed343b0c-037c-47f4-9eb2-32a64088ba3b",
        "colab": {
          "base_uri": "https://localhost:8080/",
          "height": 72
        }
      },
      "source": [
        "#Comparing scores\n",
        "print(f\"Base Model: {clf.score(x_valid,y_valid) *100:2f} %\")\n",
        "print(f\"RandomizedSearchCV Model: {rs_model.score(x_valid,y_valid) *100:2f} %\")\n",
        "print(f\"GridSearchCV  Model: {gs_model.score(x_valid,y_valid) *100:2f} %\")"
      ],
      "execution_count": 0,
      "outputs": [
        {
          "output_type": "stream",
          "text": [
            "Base Model: 96.784865 %\n",
            "RandomizedSearchCV Model: 94.509121 %\n",
            "GridSearchCV  Model: 94.744254 %\n"
          ],
          "name": "stdout"
        }
      ]
    },
    {
      "cell_type": "code",
      "metadata": {
        "id": "F6PxAOdQtZ2T",
        "colab_type": "code",
        "outputId": "61e13f0f-8b71-400c-ba4a-f26dc7e6f1b0",
        "colab": {
          "base_uri": "https://localhost:8080/",
          "height": 35
        }
      },
      "source": [
        "#R^2 Score of best model\n",
        "print(f\"R^2: {r2_score(y_valid,y_preds)} \")"
      ],
      "execution_count": 0,
      "outputs": [
        {
          "output_type": "stream",
          "text": [
            "R^2: 0.9678486504471759 \n"
          ],
          "name": "stdout"
        }
      ]
    },
    {
      "cell_type": "markdown",
      "metadata": {
        "id": "oSQW41elJi6w",
        "colab_type": "text"
      },
      "source": [
        "## Evaluation"
      ]
    },
    {
      "cell_type": "markdown",
      "metadata": {
        "id": "5MOz_gnf84cU",
        "colab_type": "text"
      },
      "source": [
        "### Load testing data"
      ]
    },
    {
      "cell_type": "code",
      "metadata": {
        "id": "9CyoteOuBqS2",
        "colab_type": "code",
        "outputId": "10b42c85-cb84-4f86-fae0-b0ccfb3bca51",
        "colab": {
          "base_uri": "https://localhost:8080/",
          "height": 35
        }
      },
      "source": [
        "#Evaluating the best model\n",
        "\n",
        "#Load Test Data\n",
        "df_test = pd.read_csv(\"/content/drive/My Drive/Covid19 Data/test.csv\",low_memory=False,parse_dates=[\"Date\"])\n",
        "df_test.shape"
      ],
      "execution_count": 0,
      "outputs": [
        {
          "output_type": "execute_result",
          "data": {
            "text/plain": [
              "(13459, 4)"
            ]
          },
          "metadata": {
            "tags": []
          },
          "execution_count": 139
        }
      ]
    },
    {
      "cell_type": "markdown",
      "metadata": {
        "id": "GUcIi1yX8-oQ",
        "colab_type": "text"
      },
      "source": [
        "### Preprocess the data for testing"
      ]
    },
    {
      "cell_type": "code",
      "metadata": {
        "id": "SBZhZLF2IN6p",
        "colab_type": "code",
        "outputId": "3685bb16-dabe-4bae-f518-87498b275974",
        "colab": {
          "base_uri": "https://localhost:8080/",
          "height": 217
        }
      },
      "source": [
        "df_test.info() #Fatalities is missing which we want to predict"
      ],
      "execution_count": 0,
      "outputs": [
        {
          "output_type": "stream",
          "text": [
            "<class 'pandas.core.frame.DataFrame'>\n",
            "RangeIndex: 13459 entries, 0 to 13458\n",
            "Data columns (total 4 columns):\n",
            " #   Column          Non-Null Count  Dtype         \n",
            "---  ------          --------------  -----         \n",
            " 0   ForecastId      13459 non-null  int64         \n",
            " 1   Province_State  5719 non-null   object        \n",
            " 2   Country_Region  13459 non-null  object        \n",
            " 3   Date            13459 non-null  datetime64[ns]\n",
            "dtypes: datetime64[ns](1), int64(1), object(2)\n",
            "memory usage: 420.7+ KB\n"
          ],
          "name": "stdout"
        }
      ]
    },
    {
      "cell_type": "code",
      "metadata": {
        "id": "ucD8kxBEIPjT",
        "colab_type": "code",
        "outputId": "6a52598f-b799-4b08-9713-6a846c386572",
        "colab": {
          "base_uri": "https://localhost:8080/",
          "height": 108
        }
      },
      "source": [
        "df_test.isna().sum()"
      ],
      "execution_count": 0,
      "outputs": [
        {
          "output_type": "execute_result",
          "data": {
            "text/plain": [
              "ForecastId           0\n",
              "Province_State    7740\n",
              "Country_Region       0\n",
              "Date                 0\n",
              "dtype: int64"
            ]
          },
          "metadata": {
            "tags": []
          },
          "execution_count": 141
        }
      ]
    },
    {
      "cell_type": "code",
      "metadata": {
        "id": "2uT7VYEfhIP4",
        "colab_type": "code",
        "outputId": "e444b2cb-d64c-46aa-d526-7f511ab9b9d3",
        "colab": {
          "base_uri": "https://localhost:8080/",
          "height": 35
        }
      },
      "source": [
        "#Seperate Date Information\n",
        "df_test[\"Year\"] = df_test.Date.dt.year\n",
        "df_test[\"Month\"] = df_test.Date.dt.month\n",
        "df_test[\"Day\"] = df_test.Date.dt.day\n",
        "df_test[\"DayOfWeek\"] = df_test.Date.dt.dayofweek\n",
        "df_test[\"DayOfYear\"] = df_test.Date.dt.dayofyear\n",
        "df_test.shape"
      ],
      "execution_count": 0,
      "outputs": [
        {
          "output_type": "execute_result",
          "data": {
            "text/plain": [
              "(13459, 9)"
            ]
          },
          "metadata": {
            "tags": []
          },
          "execution_count": 142
        }
      ]
    },
    {
      "cell_type": "code",
      "metadata": {
        "id": "uM068HLWhn-R",
        "colab_type": "code",
        "outputId": "e77ac220-77e0-45a2-cc3f-cdb74ff6ddbe",
        "colab": {
          "base_uri": "https://localhost:8080/",
          "height": 35
        }
      },
      "source": [
        "#Remove Date from data\n",
        "df_test.drop(\"Date\",axis=1,inplace=True)\n",
        "df_test.shape"
      ],
      "execution_count": 0,
      "outputs": [
        {
          "output_type": "execute_result",
          "data": {
            "text/plain": [
              "(13459, 8)"
            ]
          },
          "metadata": {
            "tags": []
          },
          "execution_count": 143
        }
      ]
    },
    {
      "cell_type": "code",
      "metadata": {
        "id": "LNeU3GIWiGEN",
        "colab_type": "code",
        "outputId": "a586484e-0544-468f-cc76-a211064f396d",
        "colab": {
          "base_uri": "https://localhost:8080/",
          "height": 54
        }
      },
      "source": [
        "#Check which content is string\n",
        "for label,content in df_test.items():\n",
        "  if pd.api.types.is_string_dtype(content):\n",
        "    print(label)"
      ],
      "execution_count": 0,
      "outputs": [
        {
          "output_type": "stream",
          "text": [
            "Province_State\n",
            "Country_Region\n"
          ],
          "name": "stdout"
        }
      ]
    },
    {
      "cell_type": "code",
      "metadata": {
        "id": "lhIjxe5Bidlt",
        "colab_type": "code",
        "colab": {}
      },
      "source": [
        "#Convert all string contents into categories\n",
        "for label,content in df_test.items():\n",
        "  if pd.api.types.is_string_dtype(content):\n",
        "    df_test[label] = content.astype(\"category\").cat.as_ordered()"
      ],
      "execution_count": 0,
      "outputs": []
    },
    {
      "cell_type": "code",
      "metadata": {
        "id": "xVhA3JmsihrV",
        "colab_type": "code",
        "outputId": "6dfe73ff-869a-41d7-fb6e-3798aace3a8a",
        "colab": {
          "base_uri": "https://localhost:8080/",
          "height": 181
        }
      },
      "source": [
        "#Check for missing values\n",
        "df_test.isna().sum()"
      ],
      "execution_count": 0,
      "outputs": [
        {
          "output_type": "execute_result",
          "data": {
            "text/plain": [
              "ForecastId           0\n",
              "Province_State    7740\n",
              "Country_Region       0\n",
              "Year                 0\n",
              "Month                0\n",
              "Day                  0\n",
              "DayOfWeek            0\n",
              "DayOfYear            0\n",
              "dtype: int64"
            ]
          },
          "metadata": {
            "tags": []
          },
          "execution_count": 146
        }
      ]
    },
    {
      "cell_type": "code",
      "metadata": {
        "id": "5Aplza6Eit1e",
        "colab_type": "code",
        "colab": {}
      },
      "source": [
        "#Check for missing numerical values\n",
        "for label,content in df_test.items():\n",
        "  if pd.api.types.is_numeric_dtype(content):\n",
        "    if pd.isnull(content).sum():\n",
        "      print(label)"
      ],
      "execution_count": 0,
      "outputs": []
    },
    {
      "cell_type": "code",
      "metadata": {
        "id": "57iTRwa4i5I1",
        "colab_type": "code",
        "outputId": "24709f2e-2beb-47e9-b19a-40fe2273e268",
        "colab": {
          "base_uri": "https://localhost:8080/",
          "height": 54
        }
      },
      "source": [
        "#Check for missing categorial values\n",
        "for label,content in df_test.items():\n",
        "  if not pd.api.types.is_numeric_dtype(content):\n",
        "      print(label)"
      ],
      "execution_count": 0,
      "outputs": [
        {
          "output_type": "stream",
          "text": [
            "Province_State\n",
            "Country_Region\n"
          ],
          "name": "stdout"
        }
      ]
    },
    {
      "cell_type": "code",
      "metadata": {
        "id": "zvO9M9dwjA8g",
        "colab_type": "code",
        "outputId": "1a73be4e-08fb-4b83-8b0d-6a138901f506",
        "colab": {
          "base_uri": "https://localhost:8080/",
          "height": 35
        }
      },
      "source": [
        "#Turn categorial values into no. and fill missing\n",
        "for label,content in df_test.items():\n",
        "  if not pd.api.types.is_numeric_dtype(content):\n",
        "    \n",
        "    #Add Binary value to indicate whether sample has missing value\n",
        "    df_test[label+'is_missing'] = pd.isnull(content)\n",
        "\n",
        "    #Turn categories into numbers and add 1 (for categories which have values = -1)\n",
        "    df_test[label] = pd.Categorical(content).codes +1\n",
        "\n",
        "#Now two columns will be added to compensate for missing values\n",
        "df_test.shape"
      ],
      "execution_count": 0,
      "outputs": [
        {
          "output_type": "execute_result",
          "data": {
            "text/plain": [
              "(13459, 10)"
            ]
          },
          "metadata": {
            "tags": []
          },
          "execution_count": 149
        }
      ]
    },
    {
      "cell_type": "code",
      "metadata": {
        "id": "Mpq8pETSjQ8z",
        "colab_type": "code",
        "outputId": "63d640e2-6425-4842-bc47-970060f93e02",
        "colab": {
          "base_uri": "https://localhost:8080/",
          "height": 217
        }
      },
      "source": [
        "df_test.isna().sum()"
      ],
      "execution_count": 0,
      "outputs": [
        {
          "output_type": "execute_result",
          "data": {
            "text/plain": [
              "ForecastId                  0\n",
              "Province_State              0\n",
              "Country_Region              0\n",
              "Year                        0\n",
              "Month                       0\n",
              "Day                         0\n",
              "DayOfWeek                   0\n",
              "DayOfYear                   0\n",
              "Province_Stateis_missing    0\n",
              "Country_Regionis_missing    0\n",
              "dtype: int64"
            ]
          },
          "metadata": {
            "tags": []
          },
          "execution_count": 150
        }
      ]
    },
    {
      "cell_type": "code",
      "metadata": {
        "id": "JyXAcrx6jwhm",
        "colab_type": "code",
        "outputId": "f2d411c0-b8f6-42e5-c72a-4b4cdd64b0a0",
        "colab": {
          "base_uri": "https://localhost:8080/",
          "height": 35
        }
      },
      "source": [
        "#We can verify the column difference between training data and test data\n",
        "set(x_train.columns)-set(df_test.columns)"
      ],
      "execution_count": 0,
      "outputs": [
        {
          "output_type": "execute_result",
          "data": {
            "text/plain": [
              "{'ConfirmedCases', 'Id'}"
            ]
          },
          "metadata": {
            "tags": []
          },
          "execution_count": 151
        }
      ]
    },
    {
      "cell_type": "code",
      "metadata": {
        "id": "xxUGOowxkkAr",
        "colab_type": "code",
        "colab": {}
      },
      "source": [
        "#Manually adjust the columns in testing data\n",
        "df_test[\"ConfirmedCases\"] = 0"
      ],
      "execution_count": 0,
      "outputs": []
    },
    {
      "cell_type": "markdown",
      "metadata": {
        "id": "9RL9Kyom9SeT",
        "colab_type": "text"
      },
      "source": [
        "### Predictions of Testing data"
      ]
    },
    {
      "cell_type": "code",
      "metadata": {
        "id": "WBJJyDwdmJ1b",
        "colab_type": "code",
        "outputId": "c710768a-6516-4f7f-fa5f-891cddccfe59",
        "colab": {
          "base_uri": "https://localhost:8080/",
          "height": 35
        }
      },
      "source": [
        "#Make predictions on test data\n",
        "test_preds = clf.predict(df_test)\n",
        "test_preds"
      ],
      "execution_count": 0,
      "outputs": [
        {
          "output_type": "execute_result",
          "data": {
            "text/plain": [
              "array([240.65, 240.65, 240.65, ...,  51.03,  51.07,  50.7 ])"
            ]
          },
          "metadata": {
            "tags": []
          },
          "execution_count": 153
        }
      ]
    },
    {
      "cell_type": "code",
      "metadata": {
        "id": "5MhMK8WkmZua",
        "colab_type": "code",
        "outputId": "f7929e69-b476-4480-e68c-041f2857fe51",
        "colab": {
          "base_uri": "https://localhost:8080/",
          "height": 407
        }
      },
      "source": [
        "#Format predictions for proper display\n",
        "df_preds = pd.DataFrame()\n",
        "df_preds[\"ForecastId\"] = df_test[\"ForecastId\"]\n",
        "df_preds[\"Province_State\"] = df_test[\"Province_State\"]\n",
        "df_preds[\"Country_Region\"] = df_test[\"Country_Region\"]\n",
        "df_preds[\"Year\"] = df_test[\"Year\"]\n",
        "df_preds[\"Month\"] = df_test[\"Month\"]\n",
        "df_preds[\"Day\"] = df_test[\"Day\"]\n",
        "df_preds[\"Fatalities\"] = test_preds\n",
        "\n",
        "#Predictions till 14th MAY 2020\n",
        "df_preds"
      ],
      "execution_count": 0,
      "outputs": [
        {
          "output_type": "execute_result",
          "data": {
            "text/html": [
              "<div>\n",
              "<style scoped>\n",
              "    .dataframe tbody tr th:only-of-type {\n",
              "        vertical-align: middle;\n",
              "    }\n",
              "\n",
              "    .dataframe tbody tr th {\n",
              "        vertical-align: top;\n",
              "    }\n",
              "\n",
              "    .dataframe thead th {\n",
              "        text-align: right;\n",
              "    }\n",
              "</style>\n",
              "<table border=\"1\" class=\"dataframe\">\n",
              "  <thead>\n",
              "    <tr style=\"text-align: right;\">\n",
              "      <th></th>\n",
              "      <th>ForecastId</th>\n",
              "      <th>Province_State</th>\n",
              "      <th>Country_Region</th>\n",
              "      <th>Year</th>\n",
              "      <th>Month</th>\n",
              "      <th>Day</th>\n",
              "      <th>Fatalities</th>\n",
              "    </tr>\n",
              "  </thead>\n",
              "  <tbody>\n",
              "    <tr>\n",
              "      <th>0</th>\n",
              "      <td>1</td>\n",
              "      <td>0</td>\n",
              "      <td>1</td>\n",
              "      <td>2020</td>\n",
              "      <td>4</td>\n",
              "      <td>2</td>\n",
              "      <td>240.65</td>\n",
              "    </tr>\n",
              "    <tr>\n",
              "      <th>1</th>\n",
              "      <td>2</td>\n",
              "      <td>0</td>\n",
              "      <td>1</td>\n",
              "      <td>2020</td>\n",
              "      <td>4</td>\n",
              "      <td>3</td>\n",
              "      <td>240.65</td>\n",
              "    </tr>\n",
              "    <tr>\n",
              "      <th>2</th>\n",
              "      <td>3</td>\n",
              "      <td>0</td>\n",
              "      <td>1</td>\n",
              "      <td>2020</td>\n",
              "      <td>4</td>\n",
              "      <td>4</td>\n",
              "      <td>240.65</td>\n",
              "    </tr>\n",
              "    <tr>\n",
              "      <th>3</th>\n",
              "      <td>4</td>\n",
              "      <td>0</td>\n",
              "      <td>1</td>\n",
              "      <td>2020</td>\n",
              "      <td>4</td>\n",
              "      <td>5</td>\n",
              "      <td>240.65</td>\n",
              "    </tr>\n",
              "    <tr>\n",
              "      <th>4</th>\n",
              "      <td>5</td>\n",
              "      <td>0</td>\n",
              "      <td>1</td>\n",
              "      <td>2020</td>\n",
              "      <td>4</td>\n",
              "      <td>6</td>\n",
              "      <td>240.65</td>\n",
              "    </tr>\n",
              "    <tr>\n",
              "      <th>...</th>\n",
              "      <td>...</td>\n",
              "      <td>...</td>\n",
              "      <td>...</td>\n",
              "      <td>...</td>\n",
              "      <td>...</td>\n",
              "      <td>...</td>\n",
              "      <td>...</td>\n",
              "    </tr>\n",
              "    <tr>\n",
              "      <th>13454</th>\n",
              "      <td>13455</td>\n",
              "      <td>0</td>\n",
              "      <td>184</td>\n",
              "      <td>2020</td>\n",
              "      <td>5</td>\n",
              "      <td>10</td>\n",
              "      <td>51.08</td>\n",
              "    </tr>\n",
              "    <tr>\n",
              "      <th>13455</th>\n",
              "      <td>13456</td>\n",
              "      <td>0</td>\n",
              "      <td>184</td>\n",
              "      <td>2020</td>\n",
              "      <td>5</td>\n",
              "      <td>11</td>\n",
              "      <td>51.03</td>\n",
              "    </tr>\n",
              "    <tr>\n",
              "      <th>13456</th>\n",
              "      <td>13457</td>\n",
              "      <td>0</td>\n",
              "      <td>184</td>\n",
              "      <td>2020</td>\n",
              "      <td>5</td>\n",
              "      <td>12</td>\n",
              "      <td>51.03</td>\n",
              "    </tr>\n",
              "    <tr>\n",
              "      <th>13457</th>\n",
              "      <td>13458</td>\n",
              "      <td>0</td>\n",
              "      <td>184</td>\n",
              "      <td>2020</td>\n",
              "      <td>5</td>\n",
              "      <td>13</td>\n",
              "      <td>51.07</td>\n",
              "    </tr>\n",
              "    <tr>\n",
              "      <th>13458</th>\n",
              "      <td>13459</td>\n",
              "      <td>0</td>\n",
              "      <td>184</td>\n",
              "      <td>2020</td>\n",
              "      <td>5</td>\n",
              "      <td>14</td>\n",
              "      <td>50.70</td>\n",
              "    </tr>\n",
              "  </tbody>\n",
              "</table>\n",
              "<p>13459 rows × 7 columns</p>\n",
              "</div>"
            ],
            "text/plain": [
              "       ForecastId  Province_State  Country_Region  Year  Month  Day  Fatalities\n",
              "0               1               0               1  2020      4    2      240.65\n",
              "1               2               0               1  2020      4    3      240.65\n",
              "2               3               0               1  2020      4    4      240.65\n",
              "3               4               0               1  2020      4    5      240.65\n",
              "4               5               0               1  2020      4    6      240.65\n",
              "...           ...             ...             ...   ...    ...  ...         ...\n",
              "13454       13455               0             184  2020      5   10       51.08\n",
              "13455       13456               0             184  2020      5   11       51.03\n",
              "13456       13457               0             184  2020      5   12       51.03\n",
              "13457       13458               0             184  2020      5   13       51.07\n",
              "13458       13459               0             184  2020      5   14       50.70\n",
              "\n",
              "[13459 rows x 7 columns]"
            ]
          },
          "metadata": {
            "tags": []
          },
          "execution_count": 154
        }
      ]
    },
    {
      "cell_type": "markdown",
      "metadata": {
        "id": "VA2LM3nREsCI",
        "colab_type": "text"
      },
      "source": [
        "## Conclusion"
      ]
    },
    {
      "cell_type": "markdown",
      "metadata": {
        "id": "qJ2_ZKp4D8hS",
        "colab_type": "text"
      },
      "source": [
        "* It is analysed that the number of fatalities increase with the number of cases.\n",
        "* Therfore, it is necessary to reduce the number of upcoming cases in order to reduce the deaths across the world.\n",
        "\n",
        "&nbsp;&nbsp;&nbsp;&nbsp;&nbsp;&nbsp;&nbsp;&nbsp;&nbsp;\n",
        "<img \n",
        "src=\"https://specials-images.forbesimg.com/imageserve/5e8b6a6a3ace6200072c73d0/960x0.jpg?fit=scale\"\n",
        "Width = 300px>"
      ]
    }
  ]
}